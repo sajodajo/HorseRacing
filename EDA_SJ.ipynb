{
 "cells": [
  {
   "cell_type": "code",
   "execution_count": 1,
   "metadata": {},
   "outputs": [
    {
     "name": "stderr",
     "output_type": "stream",
     "text": [
      "/Library/Frameworks/Python.framework/Versions/3.13/lib/python3.13/site-packages/tqdm/auto.py:21: TqdmWarning: IProgress not found. Please update jupyter and ipywidgets. See https://ipywidgets.readthedocs.io/en/stable/user_install.html\n",
      "  from .autonotebook import tqdm as notebook_tqdm\n"
     ]
    },
    {
     "name": "stdout",
     "output_type": "stream",
     "text": [
      "Warning: Looks like you're using an outdated `kagglehub` version (installed: 0.3.10), please consider upgrading to the latest version (0.3.11).\n",
      "Downloading from https://www.kaggle.com/api/v1/datasets/download/hwaitt/horse-racing?dataset_version_number=3...\n"
     ]
    },
    {
     "name": "stderr",
     "output_type": "stream",
     "text": [
      "100%|██████████| 236M/236M [00:13<00:00, 18.7MB/s] "
     ]
    },
    {
     "name": "stdout",
     "output_type": "stream",
     "text": [
      "Extracting files...\n"
     ]
    },
    {
     "name": "stderr",
     "output_type": "stream",
     "text": [
      "\n"
     ]
    },
    {
     "name": "stdout",
     "output_type": "stream",
     "text": [
      "Path to dataset files: /Users/samjones/.cache/kagglehub/datasets/hwaitt/horse-racing/versions/3\n"
     ]
    }
   ],
   "source": [
    "import kagglehub\n",
    "\n",
    "# Download latest version\n",
    "path = kagglehub.dataset_download(\"hwaitt/horse-racing\")\n",
    "\n",
    "print(\"Path to dataset files:\", path)"
   ]
  },
  {
   "cell_type": "code",
   "execution_count": 10,
   "metadata": {},
   "outputs": [
    {
     "name": "stderr",
     "output_type": "stream",
     "text": [
      "/var/folders/8m/_6ttb91j0dl6ptlnvls6lf040000gn/T/ipykernel_66169/876043681.py:9: DtypeWarning: Columns (27) have mixed types. Specify dtype option on import or set low_memory=False.\n",
      "  dfHorses = pd.concat((pd.read_csv(file) for file in csv_files), ignore_index=True)\n",
      "/var/folders/8m/_6ttb91j0dl6ptlnvls6lf040000gn/T/ipykernel_66169/876043681.py:9: DtypeWarning: Columns (10) have mixed types. Specify dtype option on import or set low_memory=False.\n",
      "  dfHorses = pd.concat((pd.read_csv(file) for file in csv_files), ignore_index=True)\n"
     ]
    }
   ],
   "source": [
    "import pandas as pd\n",
    "import glob\n",
    "import os\n",
    "\n",
    "folder_path = 'datasets/'\n",
    "prefixHorses = 'horses_'\n",
    "file_pattern = os.path.join(folder_path, f'{prefixHorses}*.csv')\n",
    "csv_files = glob.glob(file_pattern)\n",
    "dfHorses = pd.concat((pd.read_csv(file) for file in csv_files), ignore_index=True)\n",
    "\n",
    "prefixRaces = 'races_'\n",
    "file_pattern = os.path.join(folder_path, f'{prefixRaces}*.csv')\n",
    "csv_files = glob.glob(file_pattern)\n",
    "dfRaces = pd.concat((pd.read_csv(file) for file in csv_files), ignore_index=True)\n",
    "\n",
    "\n",
    "dfHorses1990 = pd.read_csv('datasets/horses_1990.csv')\n"
   ]
  },
  {
   "cell_type": "code",
   "execution_count": 25,
   "metadata": {},
   "outputs": [
    {
     "data": {
      "text/plain": [
       "Index(['rid', 'horseName', 'age', 'saddle', 'decimalPrice', 'isFav',\n",
       "       'trainerName', 'jockeyName', 'position', 'positionL', 'dist',\n",
       "       'weightSt', 'weightLb', 'overWeight', 'outHandicap', 'headGear', 'RPR',\n",
       "       'TR', 'OR', 'father', 'mother', 'gfather', 'runners', 'margin',\n",
       "       'weight', 'res_win', 'res_place', 'price'],\n",
       "      dtype='object')"
      ]
     },
     "execution_count": 25,
     "metadata": {},
     "output_type": "execute_result"
    }
   ],
   "source": [
    "dfHorses.columns"
   ]
  },
  {
   "cell_type": "code",
   "execution_count": 21,
   "metadata": {},
   "outputs": [
    {
     "data": {
      "text/plain": [
       "4107315"
      ]
     },
     "execution_count": 21,
     "metadata": {},
     "output_type": "execute_result"
    }
   ],
   "source": [
    "len(dfHorses)"
   ]
  },
  {
   "cell_type": "code",
   "execution_count": 20,
   "metadata": {},
   "outputs": [
    {
     "data": {
      "text/plain": [
       "rid              0.000000\n",
       "horseName        0.000000\n",
       "age              0.007523\n",
       "saddle           4.362168\n",
       "decimalPrice     0.000000\n",
       "isFav            0.000000\n",
       "trainerName      0.069388\n",
       "jockeyName       0.003043\n",
       "position         0.000000\n",
       "positionL       19.079666\n",
       "dist            26.157843\n",
       "weightSt         0.000000\n",
       "weightLb         0.000000\n",
       "overWeight      97.703439\n",
       "outHandicap     97.249225\n",
       "headGear        75.954608\n",
       "RPR             21.056992\n",
       "TR              40.941832\n",
       "OR              43.708919\n",
       "father           0.031383\n",
       "mother           0.109074\n",
       "gfather          2.906376\n",
       "runners          0.000000\n",
       "margin           0.000000\n",
       "weight           0.000000\n",
       "res_win          0.000000\n",
       "res_place        0.000000\n",
       "price           97.686786\n",
       "dtype: float64"
      ]
     },
     "execution_count": 20,
     "metadata": {},
     "output_type": "execute_result"
    }
   ],
   "source": [
    "dfHorses.isna().mean()*100"
   ]
  }
 ],
 "metadata": {
  "kernelspec": {
   "display_name": "Python 3",
   "language": "python",
   "name": "python3"
  },
  "language_info": {
   "codemirror_mode": {
    "name": "ipython",
    "version": 3
   },
   "file_extension": ".py",
   "mimetype": "text/x-python",
   "name": "python",
   "nbconvert_exporter": "python",
   "pygments_lexer": "ipython3",
   "version": "3.13.0"
  }
 },
 "nbformat": 4,
 "nbformat_minor": 2
}
