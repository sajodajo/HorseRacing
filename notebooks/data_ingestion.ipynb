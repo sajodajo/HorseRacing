{
 "cells": [
  {
   "cell_type": "markdown",
   "id": "446ca566",
   "metadata": {},
   "source": [
    "# Dataset\n",
    "\n",
    "- 2.000 races\n",
    "- 3 racing tracks in the US (AQU = Aqueduct, BEL = Belmont , SAR = Saratoga)\n",
    "- Different race track conditions (e.g., muddy, soft) or race types (e.g., Stakes, Handicap)\n",
    "- For each race and horse the dataset contains the coordinates in a fixed time window, frame-by-frame (we can calculate speeds)"
   ]
  },
  {
   "cell_type": "code",
   "execution_count": null,
   "id": "24323cfe",
   "metadata": {},
   "outputs": [],
   "source": [
    "import pandas as pd\n",
    "import numpy as np\n",
    "import os\n",
    "\n"
   ]
  },
  {
   "cell_type": "code",
   "execution_count": 13,
   "id": "f46e2312",
   "metadata": {},
   "outputs": [
    {
     "data": {
      "application/vnd.microsoft.datawrangler.viewer.v0+json": {
       "columns": [
        {
         "name": "index",
         "rawType": "int64",
         "type": "integer"
        },
        {
         "name": "AQU",
         "rawType": "object",
         "type": "string"
        },
        {
         "name": "2019-01-01",
         "rawType": "object",
         "type": "string"
        },
        {
         "name": "9",
         "rawType": "int64",
         "type": "integer"
        },
        {
         "name": "6  ",
         "rawType": "object",
         "type": "string"
        },
        {
         "name": "72",
         "rawType": "int64",
         "type": "integer"
        },
        {
         "name": "40.6729017197787",
         "rawType": "float64",
         "type": "float"
        },
        {
         "name": "-73.8276065972899",
         "rawType": "float64",
         "type": "float"
        },
        {
         "name": "600",
         "rawType": "int64",
         "type": "integer"
        },
        {
         "name": "D",
         "rawType": "object",
         "type": "string"
        },
        {
         "name": "GD ",
         "rawType": "object",
         "type": "string"
        },
        {
         "name": "48",
         "rawType": "int64",
         "type": "integer"
        },
        {
         "name": "CLM",
         "rawType": "object",
         "type": "string"
        },
        {
         "name": "25000.00",
         "rawType": "float64",
         "type": "float"
        },
        {
         "name": "00420",
         "rawType": "int64",
         "type": "integer"
        },
        {
         "name": "120",
         "rawType": "int64",
         "type": "integer"
        },
        {
         "name": "Andre Shivnarine Worrie",
         "rawType": "object",
         "type": "string"
        },
        {
         "name": "2090",
         "rawType": "int64",
         "type": "integer"
        },
        {
         "name": "8",
         "rawType": "int64",
         "type": "integer"
        }
       ],
       "conversionMethod": "pd.DataFrame",
       "ref": "d3f2924c-66fe-48fa-b147-1018291782e2",
       "rows": [
        [
         "0",
         "AQU",
         "2019-01-01",
         "9",
         "6  ",
         "73",
         "40.6729459870339",
         "-73.8275872666695",
         "600",
         "D",
         "GD ",
         "48",
         "CLM",
         "25000.0",
         "420",
         "120",
         "Andre Shivnarine Worrie",
         "2090",
         "8"
        ],
        [
         "1",
         "AQU",
         "2019-01-01",
         "9",
         "6  ",
         "74",
         "40.6729903067774",
         "-73.8275680245873",
         "600",
         "D",
         "GD ",
         "48",
         "CLM",
         "25000.0",
         "420",
         "120",
         "Andre Shivnarine Worrie",
         "2090",
         "8"
        ],
        [
         "2",
         "AQU",
         "2019-01-01",
         "9",
         "6  ",
         "63",
         "40.6725097789893",
         "-73.8277810216018",
         "600",
         "D",
         "GD ",
         "48",
         "CLM",
         "25000.0",
         "420",
         "120",
         "Andre Shivnarine Worrie",
         "2090",
         "8"
        ],
        [
         "3",
         "AQU",
         "2019-01-01",
         "9",
         "6  ",
         "64",
         "40.672552699664",
         "-73.8277615508644",
         "600",
         "D",
         "GD ",
         "48",
         "CLM",
         "25000.0",
         "420",
         "120",
         "Andre Shivnarine Worrie",
         "2090",
         "8"
        ],
        [
         "4",
         "AQU",
         "2019-01-01",
         "9",
         "6  ",
         "65",
         "40.6725958007316",
         "-73.8277421469391",
         "600",
         "D",
         "GD ",
         "48",
         "CLM",
         "25000.0",
         "420",
         "120",
         "Andre Shivnarine Worrie",
         "2090",
         "8"
        ]
       ],
       "shape": {
        "columns": 18,
        "rows": 5
       }
      },
      "text/html": [
       "<div>\n",
       "<style scoped>\n",
       "    .dataframe tbody tr th:only-of-type {\n",
       "        vertical-align: middle;\n",
       "    }\n",
       "\n",
       "    .dataframe tbody tr th {\n",
       "        vertical-align: top;\n",
       "    }\n",
       "\n",
       "    .dataframe thead th {\n",
       "        text-align: right;\n",
       "    }\n",
       "</style>\n",
       "<table border=\"1\" class=\"dataframe\">\n",
       "  <thead>\n",
       "    <tr style=\"text-align: right;\">\n",
       "      <th></th>\n",
       "      <th>AQU</th>\n",
       "      <th>2019-01-01</th>\n",
       "      <th>9</th>\n",
       "      <th>6</th>\n",
       "      <th>72</th>\n",
       "      <th>40.6729017197787</th>\n",
       "      <th>-73.8276065972899</th>\n",
       "      <th>600</th>\n",
       "      <th>D</th>\n",
       "      <th>GD</th>\n",
       "      <th>48</th>\n",
       "      <th>CLM</th>\n",
       "      <th>25000.00</th>\n",
       "      <th>00420</th>\n",
       "      <th>120</th>\n",
       "      <th>Andre Shivnarine Worrie</th>\n",
       "      <th>2090</th>\n",
       "      <th>8</th>\n",
       "    </tr>\n",
       "  </thead>\n",
       "  <tbody>\n",
       "    <tr>\n",
       "      <th>0</th>\n",
       "      <td>AQU</td>\n",
       "      <td>2019-01-01</td>\n",
       "      <td>9</td>\n",
       "      <td>6</td>\n",
       "      <td>73</td>\n",
       "      <td>40.672946</td>\n",
       "      <td>-73.827587</td>\n",
       "      <td>600</td>\n",
       "      <td>D</td>\n",
       "      <td>GD</td>\n",
       "      <td>48</td>\n",
       "      <td>CLM</td>\n",
       "      <td>25000.0</td>\n",
       "      <td>420</td>\n",
       "      <td>120</td>\n",
       "      <td>Andre Shivnarine Worrie</td>\n",
       "      <td>2090</td>\n",
       "      <td>8</td>\n",
       "    </tr>\n",
       "    <tr>\n",
       "      <th>1</th>\n",
       "      <td>AQU</td>\n",
       "      <td>2019-01-01</td>\n",
       "      <td>9</td>\n",
       "      <td>6</td>\n",
       "      <td>74</td>\n",
       "      <td>40.672990</td>\n",
       "      <td>-73.827568</td>\n",
       "      <td>600</td>\n",
       "      <td>D</td>\n",
       "      <td>GD</td>\n",
       "      <td>48</td>\n",
       "      <td>CLM</td>\n",
       "      <td>25000.0</td>\n",
       "      <td>420</td>\n",
       "      <td>120</td>\n",
       "      <td>Andre Shivnarine Worrie</td>\n",
       "      <td>2090</td>\n",
       "      <td>8</td>\n",
       "    </tr>\n",
       "    <tr>\n",
       "      <th>2</th>\n",
       "      <td>AQU</td>\n",
       "      <td>2019-01-01</td>\n",
       "      <td>9</td>\n",
       "      <td>6</td>\n",
       "      <td>63</td>\n",
       "      <td>40.672510</td>\n",
       "      <td>-73.827781</td>\n",
       "      <td>600</td>\n",
       "      <td>D</td>\n",
       "      <td>GD</td>\n",
       "      <td>48</td>\n",
       "      <td>CLM</td>\n",
       "      <td>25000.0</td>\n",
       "      <td>420</td>\n",
       "      <td>120</td>\n",
       "      <td>Andre Shivnarine Worrie</td>\n",
       "      <td>2090</td>\n",
       "      <td>8</td>\n",
       "    </tr>\n",
       "    <tr>\n",
       "      <th>3</th>\n",
       "      <td>AQU</td>\n",
       "      <td>2019-01-01</td>\n",
       "      <td>9</td>\n",
       "      <td>6</td>\n",
       "      <td>64</td>\n",
       "      <td>40.672553</td>\n",
       "      <td>-73.827762</td>\n",
       "      <td>600</td>\n",
       "      <td>D</td>\n",
       "      <td>GD</td>\n",
       "      <td>48</td>\n",
       "      <td>CLM</td>\n",
       "      <td>25000.0</td>\n",
       "      <td>420</td>\n",
       "      <td>120</td>\n",
       "      <td>Andre Shivnarine Worrie</td>\n",
       "      <td>2090</td>\n",
       "      <td>8</td>\n",
       "    </tr>\n",
       "    <tr>\n",
       "      <th>4</th>\n",
       "      <td>AQU</td>\n",
       "      <td>2019-01-01</td>\n",
       "      <td>9</td>\n",
       "      <td>6</td>\n",
       "      <td>65</td>\n",
       "      <td>40.672596</td>\n",
       "      <td>-73.827742</td>\n",
       "      <td>600</td>\n",
       "      <td>D</td>\n",
       "      <td>GD</td>\n",
       "      <td>48</td>\n",
       "      <td>CLM</td>\n",
       "      <td>25000.0</td>\n",
       "      <td>420</td>\n",
       "      <td>120</td>\n",
       "      <td>Andre Shivnarine Worrie</td>\n",
       "      <td>2090</td>\n",
       "      <td>8</td>\n",
       "    </tr>\n",
       "  </tbody>\n",
       "</table>\n",
       "</div>"
      ],
      "text/plain": [
       "   AQU  2019-01-01  9  6    72  40.6729017197787  -73.8276065972899  600  D  \\\n",
       "0  AQU  2019-01-01  9  6    73         40.672946         -73.827587  600  D   \n",
       "1  AQU  2019-01-01  9  6    74         40.672990         -73.827568  600  D   \n",
       "2  AQU  2019-01-01  9  6    63         40.672510         -73.827781  600  D   \n",
       "3  AQU  2019-01-01  9  6    64         40.672553         -73.827762  600  D   \n",
       "4  AQU  2019-01-01  9  6    65         40.672596         -73.827742  600  D   \n",
       "\n",
       "   GD   48  CLM  25000.00  00420  120  Andre Shivnarine Worrie  2090  8  \n",
       "0  GD   48  CLM   25000.0    420  120  Andre Shivnarine Worrie  2090  8  \n",
       "1  GD   48  CLM   25000.0    420  120  Andre Shivnarine Worrie  2090  8  \n",
       "2  GD   48  CLM   25000.0    420  120  Andre Shivnarine Worrie  2090  8  \n",
       "3  GD   48  CLM   25000.0    420  120  Andre Shivnarine Worrie  2090  8  \n",
       "4  GD   48  CLM   25000.0    420  120  Andre Shivnarine Worrie  2090  8  "
      ]
     },
     "execution_count": 13,
     "metadata": {},
     "output_type": "execute_result"
    }
   ],
   "source": [
    "file__path = r\"../data/raw/nyra_2019_complete.parquet\"\n",
    "\n",
    "df = pd.read_parquet(file__path)\n",
    "df.head()"
   ]
  },
  {
   "cell_type": "code",
   "execution_count": 14,
   "id": "2781a9f3",
   "metadata": {},
   "outputs": [
    {
     "data": {
      "text/plain": [
       "(5228429, 18)"
      ]
     },
     "execution_count": 14,
     "metadata": {},
     "output_type": "execute_result"
    }
   ],
   "source": [
    "df.shape"
   ]
  },
  {
   "cell_type": "markdown",
   "id": "7db36479",
   "metadata": {},
   "source": [
    "## Data Preprocessing"
   ]
  },
  {
   "cell_type": "code",
   "execution_count": 15,
   "id": "daaef1f8",
   "metadata": {},
   "outputs": [
    {
     "data": {
      "application/vnd.microsoft.datawrangler.viewer.v0+json": {
       "columns": [
        {
         "name": "index",
         "rawType": "int64",
         "type": "integer"
        },
        {
         "name": "track_id",
         "rawType": "object",
         "type": "string"
        },
        {
         "name": "race_date",
         "rawType": "object",
         "type": "string"
        },
        {
         "name": "race_number",
         "rawType": "int64",
         "type": "integer"
        },
        {
         "name": "program_number",
         "rawType": "object",
         "type": "string"
        },
        {
         "name": "trakus_index",
         "rawType": "int64",
         "type": "integer"
        },
        {
         "name": "latitude",
         "rawType": "float64",
         "type": "float"
        },
        {
         "name": "longitude",
         "rawType": "float64",
         "type": "float"
        },
        {
         "name": "distance_id",
         "rawType": "int64",
         "type": "integer"
        },
        {
         "name": "course_type",
         "rawType": "object",
         "type": "string"
        },
        {
         "name": "track_condition",
         "rawType": "object",
         "type": "string"
        },
        {
         "name": "run_up_distance",
         "rawType": "int64",
         "type": "integer"
        },
        {
         "name": "race_type",
         "rawType": "object",
         "type": "string"
        },
        {
         "name": "purse",
         "rawType": "float64",
         "type": "float"
        },
        {
         "name": "post_time",
         "rawType": "int64",
         "type": "integer"
        },
        {
         "name": "weight_carried",
         "rawType": "int64",
         "type": "integer"
        },
        {
         "name": "jockey",
         "rawType": "object",
         "type": "string"
        },
        {
         "name": "odds",
         "rawType": "int64",
         "type": "integer"
        },
        {
         "name": "position_at_finish",
         "rawType": "int64",
         "type": "integer"
        }
       ],
       "conversionMethod": "pd.DataFrame",
       "ref": "0f0b51ba-8714-481d-89a1-b1713486f412",
       "rows": [
        [
         "0",
         "AQU",
         "2019-01-01",
         "9",
         "6  ",
         "73",
         "40.6729459870339",
         "-73.8275872666695",
         "600",
         "D",
         "GD ",
         "48",
         "CLM",
         "25000.0",
         "420",
         "120",
         "Andre Shivnarine Worrie",
         "2090",
         "8"
        ],
        [
         "1",
         "AQU",
         "2019-01-01",
         "9",
         "6  ",
         "74",
         "40.6729903067774",
         "-73.8275680245873",
         "600",
         "D",
         "GD ",
         "48",
         "CLM",
         "25000.0",
         "420",
         "120",
         "Andre Shivnarine Worrie",
         "2090",
         "8"
        ],
        [
         "2",
         "AQU",
         "2019-01-01",
         "9",
         "6  ",
         "63",
         "40.6725097789893",
         "-73.8277810216018",
         "600",
         "D",
         "GD ",
         "48",
         "CLM",
         "25000.0",
         "420",
         "120",
         "Andre Shivnarine Worrie",
         "2090",
         "8"
        ],
        [
         "3",
         "AQU",
         "2019-01-01",
         "9",
         "6  ",
         "64",
         "40.672552699664",
         "-73.8277615508644",
         "600",
         "D",
         "GD ",
         "48",
         "CLM",
         "25000.0",
         "420",
         "120",
         "Andre Shivnarine Worrie",
         "2090",
         "8"
        ],
        [
         "4",
         "AQU",
         "2019-01-01",
         "9",
         "6  ",
         "65",
         "40.6725958007316",
         "-73.8277421469391",
         "600",
         "D",
         "GD ",
         "48",
         "CLM",
         "25000.0",
         "420",
         "120",
         "Andre Shivnarine Worrie",
         "2090",
         "8"
        ]
       ],
       "shape": {
        "columns": 18,
        "rows": 5
       }
      },
      "text/html": [
       "<div>\n",
       "<style scoped>\n",
       "    .dataframe tbody tr th:only-of-type {\n",
       "        vertical-align: middle;\n",
       "    }\n",
       "\n",
       "    .dataframe tbody tr th {\n",
       "        vertical-align: top;\n",
       "    }\n",
       "\n",
       "    .dataframe thead th {\n",
       "        text-align: right;\n",
       "    }\n",
       "</style>\n",
       "<table border=\"1\" class=\"dataframe\">\n",
       "  <thead>\n",
       "    <tr style=\"text-align: right;\">\n",
       "      <th></th>\n",
       "      <th>track_id</th>\n",
       "      <th>race_date</th>\n",
       "      <th>race_number</th>\n",
       "      <th>program_number</th>\n",
       "      <th>trakus_index</th>\n",
       "      <th>latitude</th>\n",
       "      <th>longitude</th>\n",
       "      <th>distance_id</th>\n",
       "      <th>course_type</th>\n",
       "      <th>track_condition</th>\n",
       "      <th>run_up_distance</th>\n",
       "      <th>race_type</th>\n",
       "      <th>purse</th>\n",
       "      <th>post_time</th>\n",
       "      <th>weight_carried</th>\n",
       "      <th>jockey</th>\n",
       "      <th>odds</th>\n",
       "      <th>position_at_finish</th>\n",
       "    </tr>\n",
       "  </thead>\n",
       "  <tbody>\n",
       "    <tr>\n",
       "      <th>0</th>\n",
       "      <td>AQU</td>\n",
       "      <td>2019-01-01</td>\n",
       "      <td>9</td>\n",
       "      <td>6</td>\n",
       "      <td>73</td>\n",
       "      <td>40.672946</td>\n",
       "      <td>-73.827587</td>\n",
       "      <td>600</td>\n",
       "      <td>D</td>\n",
       "      <td>GD</td>\n",
       "      <td>48</td>\n",
       "      <td>CLM</td>\n",
       "      <td>25000.0</td>\n",
       "      <td>420</td>\n",
       "      <td>120</td>\n",
       "      <td>Andre Shivnarine Worrie</td>\n",
       "      <td>2090</td>\n",
       "      <td>8</td>\n",
       "    </tr>\n",
       "    <tr>\n",
       "      <th>1</th>\n",
       "      <td>AQU</td>\n",
       "      <td>2019-01-01</td>\n",
       "      <td>9</td>\n",
       "      <td>6</td>\n",
       "      <td>74</td>\n",
       "      <td>40.672990</td>\n",
       "      <td>-73.827568</td>\n",
       "      <td>600</td>\n",
       "      <td>D</td>\n",
       "      <td>GD</td>\n",
       "      <td>48</td>\n",
       "      <td>CLM</td>\n",
       "      <td>25000.0</td>\n",
       "      <td>420</td>\n",
       "      <td>120</td>\n",
       "      <td>Andre Shivnarine Worrie</td>\n",
       "      <td>2090</td>\n",
       "      <td>8</td>\n",
       "    </tr>\n",
       "    <tr>\n",
       "      <th>2</th>\n",
       "      <td>AQU</td>\n",
       "      <td>2019-01-01</td>\n",
       "      <td>9</td>\n",
       "      <td>6</td>\n",
       "      <td>63</td>\n",
       "      <td>40.672510</td>\n",
       "      <td>-73.827781</td>\n",
       "      <td>600</td>\n",
       "      <td>D</td>\n",
       "      <td>GD</td>\n",
       "      <td>48</td>\n",
       "      <td>CLM</td>\n",
       "      <td>25000.0</td>\n",
       "      <td>420</td>\n",
       "      <td>120</td>\n",
       "      <td>Andre Shivnarine Worrie</td>\n",
       "      <td>2090</td>\n",
       "      <td>8</td>\n",
       "    </tr>\n",
       "    <tr>\n",
       "      <th>3</th>\n",
       "      <td>AQU</td>\n",
       "      <td>2019-01-01</td>\n",
       "      <td>9</td>\n",
       "      <td>6</td>\n",
       "      <td>64</td>\n",
       "      <td>40.672553</td>\n",
       "      <td>-73.827762</td>\n",
       "      <td>600</td>\n",
       "      <td>D</td>\n",
       "      <td>GD</td>\n",
       "      <td>48</td>\n",
       "      <td>CLM</td>\n",
       "      <td>25000.0</td>\n",
       "      <td>420</td>\n",
       "      <td>120</td>\n",
       "      <td>Andre Shivnarine Worrie</td>\n",
       "      <td>2090</td>\n",
       "      <td>8</td>\n",
       "    </tr>\n",
       "    <tr>\n",
       "      <th>4</th>\n",
       "      <td>AQU</td>\n",
       "      <td>2019-01-01</td>\n",
       "      <td>9</td>\n",
       "      <td>6</td>\n",
       "      <td>65</td>\n",
       "      <td>40.672596</td>\n",
       "      <td>-73.827742</td>\n",
       "      <td>600</td>\n",
       "      <td>D</td>\n",
       "      <td>GD</td>\n",
       "      <td>48</td>\n",
       "      <td>CLM</td>\n",
       "      <td>25000.0</td>\n",
       "      <td>420</td>\n",
       "      <td>120</td>\n",
       "      <td>Andre Shivnarine Worrie</td>\n",
       "      <td>2090</td>\n",
       "      <td>8</td>\n",
       "    </tr>\n",
       "  </tbody>\n",
       "</table>\n",
       "</div>"
      ],
      "text/plain": [
       "  track_id   race_date  race_number program_number  trakus_index   latitude  \\\n",
       "0      AQU  2019-01-01            9            6              73  40.672946   \n",
       "1      AQU  2019-01-01            9            6              74  40.672990   \n",
       "2      AQU  2019-01-01            9            6              63  40.672510   \n",
       "3      AQU  2019-01-01            9            6              64  40.672553   \n",
       "4      AQU  2019-01-01            9            6              65  40.672596   \n",
       "\n",
       "   longitude  distance_id course_type track_condition  run_up_distance  \\\n",
       "0 -73.827587          600           D             GD                48   \n",
       "1 -73.827568          600           D             GD                48   \n",
       "2 -73.827781          600           D             GD                48   \n",
       "3 -73.827762          600           D             GD                48   \n",
       "4 -73.827742          600           D             GD                48   \n",
       "\n",
       "  race_type    purse  post_time  weight_carried                   jockey  \\\n",
       "0       CLM  25000.0        420             120  Andre Shivnarine Worrie   \n",
       "1       CLM  25000.0        420             120  Andre Shivnarine Worrie   \n",
       "2       CLM  25000.0        420             120  Andre Shivnarine Worrie   \n",
       "3       CLM  25000.0        420             120  Andre Shivnarine Worrie   \n",
       "4       CLM  25000.0        420             120  Andre Shivnarine Worrie   \n",
       "\n",
       "   odds  position_at_finish  \n",
       "0  2090                   8  \n",
       "1  2090                   8  \n",
       "2  2090                   8  \n",
       "3  2090                   8  \n",
       "4  2090                   8  "
      ]
     },
     "execution_count": 15,
     "metadata": {},
     "output_type": "execute_result"
    }
   ],
   "source": [
    "df.columns = ['track_id','race_date','race_number','program_number','trakus_index','latitude','longitude','distance_id','course_type','track_condition','run_up_distance','race_type','purse','post_time','weight_carried','jockey','odds','position_at_finish']\n",
    "df.head()"
   ]
  },
  {
   "cell_type": "code",
   "execution_count": 16,
   "id": "c2563f31",
   "metadata": {},
   "outputs": [
    {
     "data": {
      "text/plain": [
       "array(['6', '2', '9', '3', '1', '11', '5', '4', '10', '7', '1A', '8',\n",
       "       '13', '2B', '12', '14', '15', '16', '3X', '1X'], dtype=object)"
      ]
     },
     "execution_count": 16,
     "metadata": {},
     "output_type": "execute_result"
    }
   ],
   "source": [
    "# program number 3 characters with whitespace or strings\n",
    "\n",
    "df[\"program_number\"] = df[\"program_number\"].apply(lambda x: str(x).rstrip())\n",
    "df[\"program_number\"].unique()"
   ]
  },
  {
   "cell_type": "markdown",
   "id": "ec65796a",
   "metadata": {},
   "source": [
    "`horse_id` = `track_id`+`race_date`+`race_number`+`program_number`"
   ]
  },
  {
   "cell_type": "code",
   "execution_count": 18,
   "id": "68eb0efe",
   "metadata": {},
   "outputs": [
    {
     "data": {
      "text/plain": [
       "0    AQU_2019-01-01_9_6\n",
       "1    AQU_2019-01-01_9_6\n",
       "2    AQU_2019-01-01_9_6\n",
       "3    AQU_2019-01-01_9_6\n",
       "4    AQU_2019-01-01_9_6\n",
       "Name: horse_id, dtype: object"
      ]
     },
     "execution_count": 18,
     "metadata": {},
     "output_type": "execute_result"
    }
   ],
   "source": [
    "df[\"horse_id\"] = df.apply(lambda x: f\"{x[\"track_id\"]}_{x[\"race_date\"]}_{x[\"race_number\"]}_{x[\"program_number\"]}\", axis=1)\n",
    "df[\"horse_id\"].head()"
   ]
  },
  {
   "cell_type": "code",
   "execution_count": 17,
   "id": "40755c99",
   "metadata": {},
   "outputs": [],
   "source": [
    "df[\"win\"] = np.where(df[\"position_at_finish\"] == 1, 1, 0)"
   ]
  },
  {
   "cell_type": "markdown",
   "id": "6759ea9c",
   "metadata": {},
   "source": [
    "`rid` = `track_id`+`race_date`+`race_number`"
   ]
  },
  {
   "cell_type": "code",
   "execution_count": 19,
   "id": "ea438b27",
   "metadata": {},
   "outputs": [],
   "source": [
    "# add unique race_id (rid)\n",
    "\n",
    "df[\"rid\"] = df.apply(lambda x: f\"{x[\"track_id\"]}_{x[\"race_date\"]}_{x[\"race_number\"]}\", axis=1)\n"
   ]
  },
  {
   "cell_type": "code",
   "execution_count": 20,
   "id": "570ece7d",
   "metadata": {},
   "outputs": [
    {
     "data": {
      "text/plain": [
       "0    AQU_2019-01-01_9\n",
       "1    AQU_2019-01-01_9\n",
       "2    AQU_2019-01-01_9\n",
       "3    AQU_2019-01-01_9\n",
       "4    AQU_2019-01-01_9\n",
       "Name: rid, dtype: object"
      ]
     },
     "execution_count": 20,
     "metadata": {},
     "output_type": "execute_result"
    }
   ],
   "source": [
    "df[\"rid\"].head()"
   ]
  },
  {
   "cell_type": "markdown",
   "id": "7507fd1c",
   "metadata": {},
   "source": [
    "**Table reading example**"
   ]
  },
  {
   "cell_type": "code",
   "execution_count": 26,
   "id": "ba0d47ef",
   "metadata": {},
   "outputs": [
    {
     "data": {
      "application/vnd.microsoft.datawrangler.viewer.v0+json": {
       "columns": [
        {
         "name": "index",
         "rawType": "int64",
         "type": "integer"
        },
        {
         "name": "horse_id",
         "rawType": "object",
         "type": "string"
        },
        {
         "name": "win",
         "rawType": "int64",
         "type": "integer"
        },
        {
         "name": "jockey",
         "rawType": "object",
         "type": "string"
        },
        {
         "name": "program_number",
         "rawType": "object",
         "type": "string"
        },
        {
         "name": "rid",
         "rawType": "object",
         "type": "string"
        }
       ],
       "conversionMethod": "pd.DataFrame",
       "ref": "63dd0ee7-ceaf-4ac7-a488-fe735ccb9d44",
       "rows": [
        [
         "0",
         "AQU_2019-01-01_9_1",
         "0",
         "Harry Hernandez",
         "1",
         "AQU_2019-01-01_9"
        ],
        [
         "1",
         "AQU_2019-01-01_9_10",
         "0",
         "Luis R. Reyes",
         "10",
         "AQU_2019-01-01_9"
        ],
        [
         "2",
         "AQU_2019-01-01_9_11",
         "0",
         "Rajiv Maragh",
         "11",
         "AQU_2019-01-01_9"
        ],
        [
         "3",
         "AQU_2019-01-01_9_3",
         "1",
         "Benjamin Hernandez",
         "3",
         "AQU_2019-01-01_9"
        ],
        [
         "4",
         "AQU_2019-01-01_9_4",
         "0",
         "Joel Sone",
         "4",
         "AQU_2019-01-01_9"
        ],
        [
         "5",
         "AQU_2019-01-01_9_6",
         "0",
         "Andre Shivnarine Worrie",
         "6",
         "AQU_2019-01-01_9"
        ],
        [
         "6",
         "AQU_2019-01-01_9_7",
         "0",
         "Manuel Franco",
         "7",
         "AQU_2019-01-01_9"
        ],
        [
         "7",
         "AQU_2019-01-01_9_8",
         "0",
         "Reylu Gutierrez",
         "8",
         "AQU_2019-01-01_9"
        ],
        [
         "8",
         "AQU_2019-01-01_9_9",
         "0",
         "Joey R. Martinez",
         "9",
         "AQU_2019-01-01_9"
        ]
       ],
       "shape": {
        "columns": 5,
        "rows": 9
       }
      },
      "text/html": [
       "<div>\n",
       "<style scoped>\n",
       "    .dataframe tbody tr th:only-of-type {\n",
       "        vertical-align: middle;\n",
       "    }\n",
       "\n",
       "    .dataframe tbody tr th {\n",
       "        vertical-align: top;\n",
       "    }\n",
       "\n",
       "    .dataframe thead th {\n",
       "        text-align: right;\n",
       "    }\n",
       "</style>\n",
       "<table border=\"1\" class=\"dataframe\">\n",
       "  <thead>\n",
       "    <tr style=\"text-align: right;\">\n",
       "      <th></th>\n",
       "      <th>horse_id</th>\n",
       "      <th>win</th>\n",
       "      <th>jockey</th>\n",
       "      <th>program_number</th>\n",
       "      <th>rid</th>\n",
       "    </tr>\n",
       "  </thead>\n",
       "  <tbody>\n",
       "    <tr>\n",
       "      <th>0</th>\n",
       "      <td>AQU_2019-01-01_9_1</td>\n",
       "      <td>0</td>\n",
       "      <td>Harry Hernandez</td>\n",
       "      <td>1</td>\n",
       "      <td>AQU_2019-01-01_9</td>\n",
       "    </tr>\n",
       "    <tr>\n",
       "      <th>1</th>\n",
       "      <td>AQU_2019-01-01_9_10</td>\n",
       "      <td>0</td>\n",
       "      <td>Luis R. Reyes</td>\n",
       "      <td>10</td>\n",
       "      <td>AQU_2019-01-01_9</td>\n",
       "    </tr>\n",
       "    <tr>\n",
       "      <th>2</th>\n",
       "      <td>AQU_2019-01-01_9_11</td>\n",
       "      <td>0</td>\n",
       "      <td>Rajiv Maragh</td>\n",
       "      <td>11</td>\n",
       "      <td>AQU_2019-01-01_9</td>\n",
       "    </tr>\n",
       "    <tr>\n",
       "      <th>3</th>\n",
       "      <td>AQU_2019-01-01_9_3</td>\n",
       "      <td>1</td>\n",
       "      <td>Benjamin Hernandez</td>\n",
       "      <td>3</td>\n",
       "      <td>AQU_2019-01-01_9</td>\n",
       "    </tr>\n",
       "    <tr>\n",
       "      <th>4</th>\n",
       "      <td>AQU_2019-01-01_9_4</td>\n",
       "      <td>0</td>\n",
       "      <td>Joel Sone</td>\n",
       "      <td>4</td>\n",
       "      <td>AQU_2019-01-01_9</td>\n",
       "    </tr>\n",
       "    <tr>\n",
       "      <th>5</th>\n",
       "      <td>AQU_2019-01-01_9_6</td>\n",
       "      <td>0</td>\n",
       "      <td>Andre Shivnarine Worrie</td>\n",
       "      <td>6</td>\n",
       "      <td>AQU_2019-01-01_9</td>\n",
       "    </tr>\n",
       "    <tr>\n",
       "      <th>6</th>\n",
       "      <td>AQU_2019-01-01_9_7</td>\n",
       "      <td>0</td>\n",
       "      <td>Manuel Franco</td>\n",
       "      <td>7</td>\n",
       "      <td>AQU_2019-01-01_9</td>\n",
       "    </tr>\n",
       "    <tr>\n",
       "      <th>7</th>\n",
       "      <td>AQU_2019-01-01_9_8</td>\n",
       "      <td>0</td>\n",
       "      <td>Reylu Gutierrez</td>\n",
       "      <td>8</td>\n",
       "      <td>AQU_2019-01-01_9</td>\n",
       "    </tr>\n",
       "    <tr>\n",
       "      <th>8</th>\n",
       "      <td>AQU_2019-01-01_9_9</td>\n",
       "      <td>0</td>\n",
       "      <td>Joey R. Martinez</td>\n",
       "      <td>9</td>\n",
       "      <td>AQU_2019-01-01_9</td>\n",
       "    </tr>\n",
       "  </tbody>\n",
       "</table>\n",
       "</div>"
      ],
      "text/plain": [
       "              horse_id  win                   jockey program_number  \\\n",
       "0   AQU_2019-01-01_9_1    0          Harry Hernandez              1   \n",
       "1  AQU_2019-01-01_9_10    0            Luis R. Reyes             10   \n",
       "2  AQU_2019-01-01_9_11    0             Rajiv Maragh             11   \n",
       "3   AQU_2019-01-01_9_3    1       Benjamin Hernandez              3   \n",
       "4   AQU_2019-01-01_9_4    0                Joel Sone              4   \n",
       "5   AQU_2019-01-01_9_6    0  Andre Shivnarine Worrie              6   \n",
       "6   AQU_2019-01-01_9_7    0            Manuel Franco              7   \n",
       "7   AQU_2019-01-01_9_8    0          Reylu Gutierrez              8   \n",
       "8   AQU_2019-01-01_9_9    0         Joey R. Martinez              9   \n",
       "\n",
       "                rid  \n",
       "0  AQU_2019-01-01_9  \n",
       "1  AQU_2019-01-01_9  \n",
       "2  AQU_2019-01-01_9  \n",
       "3  AQU_2019-01-01_9  \n",
       "4  AQU_2019-01-01_9  \n",
       "5  AQU_2019-01-01_9  \n",
       "6  AQU_2019-01-01_9  \n",
       "7  AQU_2019-01-01_9  \n",
       "8  AQU_2019-01-01_9  "
      ]
     },
     "execution_count": 26,
     "metadata": {},
     "output_type": "execute_result"
    }
   ],
   "source": [
    "example = df[df[\"rid\"] == \"AQU_2019-01-01_9\"]\n",
    "example = example.groupby(\"horse_id\").first().reset_index()\n",
    "\n",
    "example[[\"horse_id\", \"win\", \"jockey\", \"program_number\", \"rid\"]].head(20)"
   ]
  },
  {
   "cell_type": "code",
   "execution_count": 25,
   "id": "41e37d1b",
   "metadata": {},
   "outputs": [
    {
     "data": {
      "text/plain": [
       "Index(['track_id', 'race_date', 'race_number', 'program_number',\n",
       "       'trakus_index', 'latitude', 'longitude', 'distance_id', 'course_type',\n",
       "       'track_condition', 'run_up_distance', 'race_type', 'purse', 'post_time',\n",
       "       'weight_carried', 'jockey', 'odds', 'position_at_finish', 'win',\n",
       "       'horse_id', 'rid'],\n",
       "      dtype='object')"
      ]
     },
     "execution_count": 25,
     "metadata": {},
     "output_type": "execute_result"
    }
   ],
   "source": [
    "df.columns"
   ]
  }
 ],
 "metadata": {
  "kernelspec": {
   "display_name": ".venv",
   "language": "python",
   "name": "python3"
  },
  "language_info": {
   "codemirror_mode": {
    "name": "ipython",
    "version": 3
   },
   "file_extension": ".py",
   "mimetype": "text/x-python",
   "name": "python",
   "nbconvert_exporter": "python",
   "pygments_lexer": "ipython3",
   "version": "3.12.9"
  }
 },
 "nbformat": 4,
 "nbformat_minor": 5
}
